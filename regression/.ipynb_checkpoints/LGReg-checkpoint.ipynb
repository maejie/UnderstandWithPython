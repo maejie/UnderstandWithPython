{
 "cells": [
  {
   "cell_type": "markdown",
   "metadata": {
    "slideshow": {
     "slide_type": "slide"
    }
   },
   "source": [
    "ロジスティック回帰\n",
    "====================\n",
    "--------------------------------------------"
   ]
  },
  {
   "cell_type": "markdown",
   "metadata": {
    "slideshow": {
     "slide_type": "slide"
    }
   },
   "source": [
    "ロジスティック回帰は、カテゴリ型変数の予測を行うために使用される。\n",
    "\n",
    "以下の式により、説明変数$\\phi_n$が与えられたときの、クラス$C_k$の確率を得る。"
   ]
  },
  {
   "cell_type": "markdown",
   "metadata": {},
   "source": [
    "$P(C_{k}|\\Phi)=y_{k}(\\Phi)=\\frac{\\displaystyle \\exp(a_{k})}{\\displaystyle \\sum_{j}\\exp(a_{j})}$\n",
    "\n",
    "$a_{k} = W_{k}^T\\Phi$"
   ]
  },
  {
   "cell_type": "markdown",
   "metadata": {},
   "source": [
    "$\\Phi$はN×M次元の特徴行列、$W$はM×K次元の重み行列である。\n",
    "\n",
    "ここで、K=クラス数（いくつに分けるのか）、M=特徴空間の次元（説明変数の数）、N=データ件数（学習データのサイズ）である。\n",
    "\n",
    "ロジスティック回帰は、特徴行列（説明変数）が与えられたとき、各クラスに属する確率を算出し、確率が最も大きなクラスを予測結果とする。\n",
    "\n",
    "予測を行うにあたり、$W$を求める必要がある。"
   ]
  },
  {
   "cell_type": "markdown",
   "metadata": {
    "slideshow": {
     "slide_type": "slide"
    }
   },
   "source": [
    "$W$は、$\\Phi$が与えられたとき、正しいクラスに所属する確率ができる限り大きな確率であるように調整される必要がある。\n",
    "\n",
    "このためには誤差を定義する必要がある。\n",
    "\n",
    "ロジスティック回帰の誤差関数は以下のように表される（交差エントロピー誤差関数）。\n",
    "\n",
    "$E(W_{1},W_{2},\\ldots,W_{K})=-\\ln{P(T|W_{1},W_{2},\\ldots,W_{K})}=\\displaystyle -\\sum_{n=1}^N\\sum_{k=1}^Kt_{nk}\\ln{y_{nk}}$\n",
    "\n",
    "$T$はN×K次元の学習データの目的変数（正解データ）を表す行列である。1-of-K表現のため、個々のレコードはクラス数Kのベクトルで表される。\n",
    "\n",
    "$\n",
    "  T=\\left(\n",
    "  \\begin{array}{ccc}\n",
    "   & & \\\\\n",
    "   & t_{nk} & \\\\\n",
    "   & & \\\\\n",
    "  \\end{array}\n",
    "  \\right)\n",
    "$\n",
    "\n",
    "誤差関数を微分すると、勾配は以下のように求まる。\n",
    "\n",
    "$\\nabla_{W_{k}}{E(W_{1},W_{2},\\ldots,W_{K})} = \\displaystyle \\sum_{n=1}^N{(y_{nk}-t_{nk})\\Phi_{n}}$"
   ]
  },
  {
   "cell_type": "markdown",
   "metadata": {
    "slideshow": {
     "slide_type": "slide"
    }
   },
   "source": [
    "パラメータ$W$の推定値は、確率的勾配降下法による学習によって求めることができる。\n",
    "更新式は次の通りである。\n",
    "\n",
    "$W^{(\\tau+1)}=W^{(\\tau)}-\\eta\\nabla{E_{n}}$\n",
    "\n",
    "すべての学習データについて$\\nabla{E_n}=(y_{n}-t_{n})\\Phi_{n}$を計算し、上式により更新する。\n",
    "$W$の初期値はランダムに決め、すべての学習データについて更新することを1ステップとし、ステップごとに学習率$\\eta$は減衰させる。"
   ]
  },
  {
   "cell_type": "code",
   "execution_count": null,
   "metadata": {
    "collapsed": true,
    "slideshow": {
     "slide_type": "slide"
    }
   },
   "outputs": [],
   "source": [
    "%matplotlib inline\n",
    "import numpy\n",
    "import matplotlib.pyplot\n",
    "import pandas"
   ]
  },
  {
   "cell_type": "markdown",
   "metadata": {
    "slideshow": {
     "slide_type": "slide"
    }
   },
   "source": [
    "データを読み込む。tRを1-of-K表現としたものがtである。"
   ]
  },
  {
   "cell_type": "code",
   "execution_count": null,
   "metadata": {
    "collapsed": false
   },
   "outputs": [],
   "source": [
    "X1 = numpy.array([5.1,4.9,4.7,4.6,5,5.4,4.6,5,4.4,4.9,5.4,4.8,4.8,4.3,5.8,5.7,5.4,5.1,5.7,5.1,5.4,5.1,4.6,5.1,4.8,5,5,5.2,5.2,4.7,4.8,5.4,5.2,5.5,4.9,5,5.5,4.9,4.4,5.1,5,4.5,4.4,5,5.1,4.8,5.1,4.6,5.3,5,7,6.4,6.9,5.5,6.5,5.7,6.3,4.9,6.6,5.2,5,5.9,6,6.1,5.6,6.7,5.6,5.8,6.2,5.6,5.9,6.1,6.3,6.1,6.4,6.6,6.8,6.7,6,5.7,5.5,5.5,5.8,6,5.4,6,6.7,6.3,5.6,5.5,5.5,6.1,5.8,5,5.6,5.7,5.7,6.2,5.1,5.7,6.3,5.8,7.1,6.3,6.5,7.6,4.9,7.3,6.7,7.2,6.5,6.4,6.8,5.7,5.8,6.4,6.5,7.7,7.7,6,6.9,5.6,7.7,6.3,6.7,7.2,6.2,6.1,6.4,7.2,7.4,7.9,6.4,6.3,6.1,7.7,6.3,6.4,6,6.9,6.7,6.9,5.8,6.8,6.7,6.7,6.3,6.5,6.2,5.9])\n",
    "X2 = numpy.array([3.5,3,3.2,3.1,3.6,3.9,3.4,3.4,2.9,3.1,3.7,3.4,3,3,4,4.4,3.9,3.5,3.8,3.8,3.4,3.7,3.6,3.3,3.4,3,3.4,3.5,3.4,3.2,3.1,3.4,4.1,4.2,3.1,3.2,3.5,3.6,3,3.4,3.5,2.3,3.2,3.5,3.8,3,3.8,3.2,3.7,3.3,3.2,3.2,3.1,2.3,2.8,2.8,3.3,2.4,2.9,2.7,2,3,2.2,2.9,2.9,3.1,3,2.7,2.2,2.5,3.2,2.8,2.5,2.8,2.9,3,2.8,3,2.9,2.6,2.4,2.4,2.7,2.7,3,3.4,3.1,2.3,3,2.5,2.6,3,2.6,2.3,2.7,3,2.9,2.9,2.5,2.8,3.3,2.7,3,2.9,3,3,2.5,2.9,2.5,3.6,3.2,2.7,3,2.5,2.8,3.2,3,3.8,2.6,2.2,3.2,2.8,2.8,2.7,3.3,3.2,2.8,3,2.8,3,2.8,3.8,2.8,2.8,2.6,3,3.4,3.1,3,3.1,3.1,3.1,2.7,3.2,3.3,3,2.5,3,3.4,3])\n",
    "X3 = numpy.array([1.4,1.4,1.3,1.5,1.4,1.7,1.4,1.5,1.4,1.5,1.5,1.6,1.4,1.1,1.2,1.5,1.3,1.4,1.7,1.5,1.7,1.5,1,1.7,1.9,1.6,1.6,1.5,1.4,1.6,1.6,1.5,1.5,1.4,1.5,1.2,1.3,1.4,1.3,1.5,1.3,1.3,1.3,1.6,1.9,1.4,1.6,1.4,1.5,1.4,4.7,4.5,4.9,4,4.6,4.5,4.7,3.3,4.6,3.9,3.5,4.2,4,4.7,3.6,4.4,4.5,4.1,4.5,3.9,4.8,4,4.9,4.7,4.3,4.4,4.8,5,4.5,3.5,3.8,3.7,3.9,5.1,4.5,4.5,4.7,4.4,4.1,4,4.4,4.6,4,3.3,4.2,4.2,4.2,4.3,3,4.1,6,5.1,5.9,5.6,5.8,6.6,4.5,6.3,5.8,6.1,5.1,5.3,5.5,5,5.1,5.3,5.5,6.7,6.9,5,5.7,4.9,6.7,4.9,5.7,6,4.8,4.9,5.6,5.8,6.1,6.4,5.6,5.1,5.6,6.1,5.6,5.5,4.8,5.4,5.6,5.1,5.1,5.9,5.7,5.2,5,5.2,5.4,5.1])\n",
    "X4 = numpy.array([0.2,0.2,0.2,0.2,0.2,0.4,0.3,0.2,0.2,0.1,0.2,0.2,0.1,0.1,0.2,0.4,0.4,0.3,0.3,0.3,0.2,0.4,0.2,0.5,0.2,0.2,0.4,0.2,0.2,0.2,0.2,0.4,0.1,0.2,0.2,0.2,0.2,0.1,0.2,0.2,0.3,0.3,0.2,0.6,0.4,0.3,0.2,0.2,0.2,0.2,1.4,1.5,1.5,1.3,1.5,1.3,1.6,1,1.3,1.4,1,1.5,1,1.4,1.3,1.4,1.5,1,1.5,1.1,1.8,1.3,1.5,1.2,1.3,1.4,1.4,1.7,1.5,1,1.1,1,1.2,1.6,1.5,1.6,1.5,1.3,1.3,1.3,1.2,1.4,1.2,1,1.3,1.2,1.3,1.3,1.1,1.3,2.5,1.9,2.1,1.8,2.2,2.1,1.7,1.8,1.8,2.5,2,1.9,2.1,2,2.4,2.3,1.8,2.2,2.3,1.5,2.3,2,2,1.8,2.1,1.8,1.8,1.8,2.1,1.6,1.9,2,2.2,1.5,1.4,2.3,2.4,1.8,1.8,2.1,2.4,2.3,1.9,2.3,2.5,2.3,1.9,2,2.3,1.8])\n",
    "tR  = numpy.array(['setosa','setosa','setosa','setosa','setosa','setosa','setosa','setosa','setosa','setosa','setosa','setosa','setosa','setosa','setosa','setosa','setosa','setosa','setosa','setosa','setosa','setosa','setosa','setosa','setosa','setosa','setosa','setosa','setosa','setosa','setosa','setosa','setosa','setosa','setosa','setosa','setosa','setosa','setosa','setosa','setosa','setosa','setosa','setosa','setosa','setosa','setosa','setosa','setosa','setosa','versicolor','versicolor','versicolor','versicolor','versicolor','versicolor','versicolor','versicolor','versicolor','versicolor','versicolor','versicolor','versicolor','versicolor','versicolor','versicolor','versicolor','versicolor','versicolor','versicolor','versicolor','versicolor','versicolor','versicolor','versicolor','versicolor','versicolor','versicolor','versicolor','versicolor','versicolor','versicolor','versicolor','versicolor','versicolor','versicolor','versicolor','versicolor','versicolor','versicolor','versicolor','versicolor','versicolor','versicolor','versicolor','versicolor','versicolor','versicolor','versicolor','versicolor','virginica','virginica','virginica','virginica','virginica','virginica','virginica','virginica','virginica','virginica','virginica','virginica','virginica','virginica','virginica','virginica','virginica','virginica','virginica','virginica','virginica','virginica','virginica','virginica','virginica','virginica','virginica','virginica','virginica','virginica','virginica','virginica','virginica','virginica','virginica','virginica','virginica','virginica','virginica','virginica','virginica','virginica','virginica','virginica','virginica','virginica','virginica','virginica','virginica','virginica'])\n",
    "def tcode(t):\n",
    "    return([1 if t == 'setosa' else 0, 1 if t == 'versicolor' else 0, 1 if t == 'virginica' else 0])\n",
    "t = numpy.array([tcode(t) for t in tR])\n",
    "df = pandas.DataFrame({\n",
    "        'Species' : tR,\n",
    "        'Sepal.Length' : X1,\n",
    "        'Sepal.Width' : X2,\n",
    "        'Petal.Length' : X3,\n",
    "        'Petal.Width' : X4\n",
    "        })"
   ]
  },
  {
   "cell_type": "markdown",
   "metadata": {
    "slideshow": {
     "slide_type": "slide"
    }
   },
   "source": [
    "データとしてはirisデータを使用する。"
   ]
  },
  {
   "cell_type": "code",
   "execution_count": null,
   "metadata": {
    "collapsed": false
   },
   "outputs": [],
   "source": [
    "df.ix[ range(0,3), :][[\"Species\",\"Sepal.Length\",\"Sepal.Width\",\"Petal.Length\",\"Petal.Width\"]]"
   ]
  },
  {
   "cell_type": "code",
   "execution_count": null,
   "metadata": {
    "collapsed": false
   },
   "outputs": [],
   "source": [
    "df.ix[ range(50,53), :][[\"Species\",\"Sepal.Length\",\"Sepal.Width\",\"Petal.Length\",\"Petal.Width\"]]"
   ]
  },
  {
   "cell_type": "code",
   "execution_count": null,
   "metadata": {
    "collapsed": false
   },
   "outputs": [],
   "source": [
    "df.ix[ range(100,103), :][[\"Species\",\"Sepal.Length\",\"Sepal.Width\",\"Petal.Length\",\"Petal.Width\"]]"
   ]
  },
  {
   "cell_type": "markdown",
   "metadata": {
    "slideshow": {
     "slide_type": "slide"
    }
   },
   "source": [
    "K=クラス数, M=説明変数数+1, N=ケース数である。重みWの初期値はランダムとし、確率的勾配降下法により、更新することでWを定める。"
   ]
  },
  {
   "cell_type": "code",
   "execution_count": null,
   "metadata": {
    "collapsed": true
   },
   "outputs": [],
   "source": [
    "K = 3\n",
    "M = 4+1\n",
    "N = 150"
   ]
  },
  {
   "cell_type": "code",
   "execution_count": null,
   "metadata": {
    "collapsed": false
   },
   "outputs": [],
   "source": [
    "W = numpy.random.randn(M,K)\n",
    "W"
   ]
  },
  {
   "cell_type": "markdown",
   "metadata": {
    "slideshow": {
     "slide_type": "slide"
    }
   },
   "source": [
    "読み込んだ値から特徴行列$\\Phi$を定義するにあたり、標準化しておくこととする。"
   ]
  },
  {
   "cell_type": "code",
   "execution_count": null,
   "metadata": {
    "collapsed": false
   },
   "outputs": [],
   "source": [
    "def scale(x):\n",
    "    return(x-numpy.mean(x))/numpy.std(x)\n",
    "PHI = numpy.array([numpy.array([1 for x in X1]), scale(X1),scale(X2),scale(X3),scale(X4)]).T\n",
    "#PHI = numpy.array([numpy.array([1 for x in X1]), X1,X2,X3,X4]).T\n",
    "PHI"
   ]
  },
  {
   "cell_type": "markdown",
   "metadata": {
    "slideshow": {
     "slide_type": "slide"
    }
   },
   "source": [
    "事後確率を関数として定義する。実装において、max(a)を各aから減じているのはオーバーフローを防ぐためである。\n",
    "\n",
    "$P(C_{k}|\\Phi)=y_{k}(\\Phi)=\\frac{\\displaystyle \\exp(a_{k})}{\\displaystyle \\sum_{j}\\exp(a_{j})}$\n",
    "\n",
    "$a_{k} = W_{k}^T\\Phi$\n"
   ]
  },
  {
   "cell_type": "code",
   "execution_count": null,
   "metadata": {
    "collapsed": false
   },
   "outputs": [],
   "source": [
    "def probc(phi, w):\n",
    "    a = numpy.dot(phi, w)\n",
    "    a = numpy.exp(a - numpy.max(a))\n",
    "    return a/numpy.sum(a)"
   ]
  },
  {
   "cell_type": "code",
   "execution_count": null,
   "metadata": {
    "collapsed": false
   },
   "outputs": [],
   "source": [
    "probc(PHI[1], W)"
   ]
  },
  {
   "cell_type": "markdown",
   "metadata": {},
   "source": [
    "ここでは、1ケースについての誤差と勾配を算出している。\n",
    "\n",
    "$E(W_{1},W_{2},\\ldots,W_{K})=-\\ln{P(T|W_{1},W_{2},\\ldots,W_{K})}=\\displaystyle -\\sum_{n=1}^N\\sum_{k=1}^Kt_{nk}\\ln{y_{nk}}$\n",
    "\n",
    "$\\nabla_{W_{k}}{E(W_{1},W_{2},\\ldots,W_{K})} = \\displaystyle \\sum_{n=1}^N{(y_{nk}-t_{nk})\\Phi_{n}}$"
   ]
  },
  {
   "cell_type": "code",
   "execution_count": null,
   "metadata": {
    "collapsed": true
   },
   "outputs": [],
   "source": [
    "def En(phi, t, w):\n",
    "    return -numpy.log(sum(probc(phi, w)*t))\n",
    "\n",
    "def dEn(phi, t, w):\n",
    "    return numpy.outer(phi, probc(phi, w) - t)"
   ]
  },
  {
   "cell_type": "markdown",
   "metadata": {},
   "source": [
    "現時点では誤差は以下のように計算される。Enは1ケースについての誤差であるため、誤差を合計している。"
   ]
  },
  {
   "cell_type": "code",
   "execution_count": null,
   "metadata": {
    "collapsed": false
   },
   "outputs": [],
   "source": [
    "error = 0\n",
    "for i in xrange(150):\n",
    "    error += En(PHI[i], t[i], W)\n",
    "error"
   ]
  },
  {
   "cell_type": "markdown",
   "metadata": {
    "slideshow": {
     "slide_type": "slide"
    }
   },
   "source": [
    "実際に更新することにより、どのように変化するかを見ていくこととする。"
   ]
  },
  {
   "cell_type": "code",
   "execution_count": null,
   "metadata": {
    "collapsed": true
   },
   "outputs": [],
   "source": [
    "eta = 0.1"
   ]
  },
  {
   "cell_type": "code",
   "execution_count": null,
   "metadata": {
    "collapsed": false
   },
   "outputs": [],
   "source": [
    "nlist = range(150)\n",
    "numpy.random.shuffle(nlist)\n",
    "for i in nlist:\n",
    "    W = W - eta * dEn(PHI[i], t[i], W)\n",
    "eta *= 0.95\n",
    "W"
   ]
  },
  {
   "cell_type": "code",
   "execution_count": null,
   "metadata": {
    "collapsed": false
   },
   "outputs": [],
   "source": [
    "error = 0\n",
    "for i in xrange(150):\n",
    "    error += En(PHI[i], t[i], W)\n",
    "error"
   ]
  },
  {
   "cell_type": "code",
   "execution_count": null,
   "metadata": {
    "collapsed": false
   },
   "outputs": [],
   "source": [
    "nlist = range(150)\n",
    "numpy.random.shuffle(nlist)\n",
    "for i in nlist:\n",
    "    W = W - eta * dEn(PHI[i], t[i], W)\n",
    "eta *= 0.95\n",
    "W"
   ]
  },
  {
   "cell_type": "code",
   "execution_count": null,
   "metadata": {
    "collapsed": false
   },
   "outputs": [],
   "source": [
    "error = 0\n",
    "for i in xrange(150):\n",
    "    error += En(PHI[i], t[i], W)\n",
    "error"
   ]
  },
  {
   "cell_type": "markdown",
   "metadata": {
    "slideshow": {
     "slide_type": "slide"
    }
   },
   "source": [
    "以下で、学習がどの程度進んでいるかを確認する。更新すると、精度が改善することを確認することができる。"
   ]
  },
  {
   "cell_type": "code",
   "execution_count": null,
   "metadata": {
    "collapsed": false
   },
   "outputs": [],
   "source": [
    "plist = numpy.array([numpy.argmax(probc(PHI[i], W)) for i in range(150)])\n",
    "clist = numpy.array([numpy.argmax(t[i]) for i in range(150)])"
   ]
  },
  {
   "cell_type": "code",
   "execution_count": null,
   "metadata": {
    "collapsed": false
   },
   "outputs": [],
   "source": [
    "matplotlib.pyplot.plot(X1[plist==0], X2[plist==0], 'o', color = 'red')\n",
    "matplotlib.pyplot.plot(X1[plist==1], X2[plist==1], 'o', color = 'blue')\n",
    "matplotlib.pyplot.plot(X1[plist==2], X2[plist==2], 'o', color = 'green')"
   ]
  },
  {
   "cell_type": "code",
   "execution_count": null,
   "metadata": {
    "collapsed": false
   },
   "outputs": [],
   "source": [
    "df = pandas.DataFrame({\n",
    "        'Predict' : plist,\n",
    "        'Answer' : clist\n",
    "        })\n",
    "pandas.crosstab(df.Predict, df.Answer, margins=True)\n"
   ]
  }
 ],
 "metadata": {
  "celltoolbar": "Slideshow",
  "kernelspec": {
   "display_name": "Python 2",
   "language": "python",
   "name": "python2"
  },
  "language_info": {
   "codemirror_mode": {
    "name": "ipython",
    "version": 2
   },
   "file_extension": ".py",
   "mimetype": "text/x-python",
   "name": "python",
   "nbconvert_exporter": "python",
   "pygments_lexer": "ipython2",
   "version": "2.7.9"
  }
 },
 "nbformat": 4,
 "nbformat_minor": 0
}
