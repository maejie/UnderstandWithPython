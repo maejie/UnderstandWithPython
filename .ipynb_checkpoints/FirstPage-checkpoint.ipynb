{
 "cells": [
  {
   "cell_type": "markdown",
   "metadata": {
    "slideshow": {
     "slide_type": "slide"
    }
   },
   "source": [
    "#Python勉強会"
   ]
  },
  {
   "cell_type": "markdown",
   "metadata": {
    "slideshow": {
     "slide_type": "slide"
    }
   },
   "source": [
    "人はなぜ、プログラミングをするのか"
   ]
  },
  {
   "cell_type": "markdown",
   "metadata": {
    "slideshow": {
     "slide_type": "slide"
    }
   },
   "source": [
    "#本勉強会の目的\n",
    "1. 「理論を実装し、実践で利用できるようにする」\n",
    "2. 「プログラミングを通じて、アルゴリズムを理解する」"
   ]
  },
  {
   "cell_type": "markdown",
   "metadata": {
    "slideshow": {
     "slide_type": "slide"
    }
   },
   "source": [
    "##IT系企業出身者の悩み\n",
    "* 統計理論や機械学習のアルゴリズムを勉強したい\n",
    "* でも、数式は分かりにくい、理論を勉強しても分かった気にならない"
   ]
  },
  {
   "cell_type": "markdown",
   "metadata": {
    "slideshow": {
     "slide_type": "slide"
    }
   },
   "source": [
    "##プログラムは「数学」をベースに作られている、はず\n",
    "\n",
    "でも、プログラムは分かるのに数式はわからない、なぜか\n",
    "* 式変形の流れを追えない\n",
    "* 式変形の流れを追っても、納得感がない"
   ]
  },
  {
   "cell_type": "markdown",
   "metadata": {
    "slideshow": {
     "slide_type": "slide"
    }
   },
   "source": [
    "##プログラマは2つの武器でプログラムを理解します\n",
    "* プログラムはステップ実行ができる\n",
    "    * 困ったときはデバッグ実行\n",
    "* メモリ上のデータを可視化できる\n",
    "    * 困ったときはprint関数"
   ]
  },
  {
   "cell_type": "markdown",
   "metadata": {
    "slideshow": {
     "slide_type": "slide"
    }
   },
   "source": [
    "##数式が分からないならば、実装してしまえばいいじゃない"
   ]
  },
  {
   "cell_type": "code",
   "execution_count": null,
   "metadata": {
    "collapsed": false
   },
   "outputs": [],
   "source": [
    "from IPython.display import Image,HTML\n",
    "import urllib\n",
    "Image(urllib.urlopen('http://ks.c.yimg.jp/res/chie-que-1343/1/343/935/218/i320').read())"
   ]
  },
  {
   "cell_type": "markdown",
   "metadata": {
    "slideshow": {
     "slide_type": "slide"
    }
   },
   "source": [
    "この勉強会では…\n",
    "* 数式をまずは実装し\n",
    "* プログラムをステップ実行し\n",
    "* 途中経過を可視化しながら進めることで、\n",
    "* アルゴリズムの「直感的」理解を促進する\n",
    "\n",
    "ことを目指します。\n"
   ]
  },
  {
   "cell_type": "markdown",
   "metadata": {
    "slideshow": {
     "slide_type": "slide"
    }
   },
   "source": [
    "#なぜpythonを使うのか\n",
    "* スクリプト言語であり、試行錯誤が簡単（ステップ実行ができる）\n",
    "* iPythonというステップ実行と視覚化に最適な実行環境がある\n",
    "* データ分析で利用するためのライブラリが充実しており、ビジネスレベルで利用可能"
   ]
  },
  {
   "cell_type": "markdown",
   "metadata": {
    "slideshow": {
     "slide_type": "slide"
    }
   },
   "source": [
    "##PyData Stack\n",
    "* Pythonでデータ分析するために必要なツールが一式揃っている\n",
    "* Anacondaで一式まとめてダウンロード可能"
   ]
  },
  {
   "cell_type": "code",
   "execution_count": null,
   "metadata": {
    "collapsed": false,
    "scrolled": true
   },
   "outputs": [],
   "source": [
    "from IPython.display import Image,HTML\n",
    "import urllib\n",
    "HTML('<center>' + urllib.urlopen('http://www.abisen.com/images/2014/04/pydata_stack_columns.svg').read() + '</center>')"
   ]
  },
  {
   "cell_type": "markdown",
   "metadata": {
    "slideshow": {
     "slide_type": "slide"
    }
   },
   "source": [
    "##なぜRじゃないのか\n",
    "* 確かにRの方がたくさんのライブラリがある\n",
    "* ただし、RにはIO関連のライブラリや分散処理関連のライブラリが少ない\n",
    "* pythonにはデータ分析以外のライブラリも多く、将来的なシステム構築までカバー可能"
   ]
  },
  {
   "cell_type": "markdown",
   "metadata": {
    "slideshow": {
     "slide_type": "slide"
    }
   },
   "source": [
    "##本日のメニュー\n",
    "* numpyを使って線形回帰モデルへのフィッティングを実装"
   ]
  },
  {
   "cell_type": "markdown",
   "metadata": {
    "slideshow": {
     "slide_type": "slide"
    }
   },
   "source": [
    "##なぜnumpyか\n",
    "* 行列演算関連の処理が実装されている\n",
    "http://docs.scipy.org/doc/numpy/reference/routines.linalg.html\n",
    "* 処理が高速\n",
    "http://sucrose.hatenablog.com/entry/2012/12/25/174118\n"
   ]
  },
  {
   "cell_type": "code",
   "execution_count": null,
   "metadata": {
    "collapsed": false
   },
   "outputs": [],
   "source": [
    "import numpy\n",
    "X=numpy.arange(10000000)\n",
    "Y=numpy.arange(10000000)\n",
    "%time X*Y"
   ]
  },
  {
   "cell_type": "code",
   "execution_count": null,
   "metadata": {
    "collapsed": false
   },
   "outputs": [],
   "source": [
    "%time for i in range(10000000): X[i] * Y[i]"
   ]
  },
  {
   "cell_type": "markdown",
   "metadata": {
    "slideshow": {
     "slide_type": "slide"
    }
   },
   "source": [
    "##それでは本編です\n",
    "「端末」を開き、下記のコマンドを実行してください。\n",
    "\n",
    "\n",
    "```\n",
    "git clone https://github.com/maejie/UnderstandWithPython.git\n",
    "cd UnderstandWithPython\n",
    "ipython notebook\n",
    "```\n"
   ]
  }
 ],
 "metadata": {
  "celltoolbar": "Slideshow",
  "kernelspec": {
   "display_name": "Python 2",
   "language": "python",
   "name": "python2"
  },
  "language_info": {
   "codemirror_mode": {
    "name": "ipython",
    "version": 2
   },
   "file_extension": ".py",
   "mimetype": "text/x-python",
   "name": "python",
   "nbconvert_exporter": "python",
   "pygments_lexer": "ipython2",
   "version": "2.7.9"
  }
 },
 "nbformat": 4,
 "nbformat_minor": 0
}
